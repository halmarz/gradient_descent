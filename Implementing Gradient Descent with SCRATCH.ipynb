{
 "cells": [
  {
   "cell_type": "code",
   "execution_count": 44,
   "metadata": {},
   "outputs": [
    {
     "data": {
      "text/html": [
       "<div>\n",
       "<style scoped>\n",
       "    .dataframe tbody tr th:only-of-type {\n",
       "        vertical-align: middle;\n",
       "    }\n",
       "\n",
       "    .dataframe tbody tr th {\n",
       "        vertical-align: top;\n",
       "    }\n",
       "\n",
       "    .dataframe thead th {\n",
       "        text-align: right;\n",
       "    }\n",
       "</style>\n",
       "<table border=\"1\" class=\"dataframe\">\n",
       "  <thead>\n",
       "    <tr style=\"text-align: right;\">\n",
       "      <th></th>\n",
       "      <th>Unnamed: 0</th>\n",
       "      <th>TV</th>\n",
       "      <th>radio</th>\n",
       "      <th>newspaper</th>\n",
       "      <th>sales</th>\n",
       "    </tr>\n",
       "  </thead>\n",
       "  <tbody>\n",
       "    <tr>\n",
       "      <th>0</th>\n",
       "      <td>1</td>\n",
       "      <td>230.1</td>\n",
       "      <td>37.8</td>\n",
       "      <td>69.2</td>\n",
       "      <td>22.1</td>\n",
       "    </tr>\n",
       "    <tr>\n",
       "      <th>1</th>\n",
       "      <td>2</td>\n",
       "      <td>44.5</td>\n",
       "      <td>39.3</td>\n",
       "      <td>45.1</td>\n",
       "      <td>10.4</td>\n",
       "    </tr>\n",
       "    <tr>\n",
       "      <th>2</th>\n",
       "      <td>3</td>\n",
       "      <td>17.2</td>\n",
       "      <td>45.9</td>\n",
       "      <td>69.3</td>\n",
       "      <td>9.3</td>\n",
       "    </tr>\n",
       "    <tr>\n",
       "      <th>3</th>\n",
       "      <td>4</td>\n",
       "      <td>151.5</td>\n",
       "      <td>41.3</td>\n",
       "      <td>58.5</td>\n",
       "      <td>18.5</td>\n",
       "    </tr>\n",
       "    <tr>\n",
       "      <th>4</th>\n",
       "      <td>5</td>\n",
       "      <td>180.8</td>\n",
       "      <td>10.8</td>\n",
       "      <td>58.4</td>\n",
       "      <td>12.9</td>\n",
       "    </tr>\n",
       "  </tbody>\n",
       "</table>\n",
       "</div>"
      ],
      "text/plain": [
       "   Unnamed: 0     TV  radio  newspaper  sales\n",
       "0           1  230.1   37.8       69.2   22.1\n",
       "1           2   44.5   39.3       45.1   10.4\n",
       "2           3   17.2   45.9       69.3    9.3\n",
       "3           4  151.5   41.3       58.5   18.5\n",
       "4           5  180.8   10.8       58.4   12.9"
      ]
     },
     "execution_count": 44,
     "metadata": {},
     "output_type": "execute_result"
    }
   ],
   "source": [
    "import pandas as pd\n",
    "import math\n",
    "import numpy as np\n",
    "import matplotlib.pyplot as plt\n",
    "import seaborn as sn\n",
    "import random\n",
    "df=pd.read_csv(\"C:/Users/mhalama/Desktop/gradient_descent/Advertising.csv\")\n",
    "df.head()"
   ]
  },
  {
   "cell_type": "code",
   "execution_count": 45,
   "metadata": {},
   "outputs": [],
   "source": [
    "X=df[['TV','radio','newspaper']]\n",
    "Y=df['sales']\n",
    "Y=np.array((Y-Y.mean())/Y.std())\n",
    "X=X.apply(lambda rec:(rec-rec.mean())/rec.std(),axis=0)"
   ]
  },
  {
   "cell_type": "code",
   "execution_count": 46,
   "metadata": {},
   "outputs": [
    {
     "name": "stdout",
     "output_type": "stream",
     "text": [
      "Bias:  0.8183178312484733 Weights:  [0.12933731 0.13211229 0.71244866]\n"
     ]
    }
   ],
   "source": [
    "\n",
    "def initialize(dim):\n",
    "    b = random.random()\n",
    "    theta=np.random.rand(dim)\n",
    "    return b,theta\n",
    "\n",
    "b,theta=initialize(3)\n",
    "print('Bias: ',b,'Weights: ',theta)"
   ]
  },
  {
   "cell_type": "code",
   "execution_count": 47,
   "metadata": {},
   "outputs": [
    {
     "data": {
      "text/plain": [
       "array([ 2.33702335,  1.2823806 ,  2.09164276,  1.89972726,  1.66919562,\n",
       "        2.29199812,  0.53752002,  0.12523042, -0.54537365,  0.40792056])"
      ]
     },
     "execution_count": 47,
     "metadata": {},
     "output_type": "execute_result"
    }
   ],
   "source": [
    "def predict_Y(b,theta,X):\n",
    "    return b + np.dot(X,theta)\n",
    "Y_hat=predict_Y(b,theta,X)\n",
    "Y_hat[0:10]"
   ]
  },
  {
   "cell_type": "markdown",
   "metadata": {},
   "source": [
    "Funkcja celu aktualizacja odchylenia i wagi:"
   ]
  },
  {
   "cell_type": "code",
   "execution_count": 48,
   "metadata": {},
   "outputs": [
    {
     "data": {
      "text/plain": [
       "1.605779902615385"
      ]
     },
     "execution_count": 48,
     "metadata": {},
     "output_type": "execute_result"
    }
   ],
   "source": [
    "def get_cost(Y,Y_hat):\n",
    "    Y_resd=Y-Y_hat\n",
    "    return np.sum(np.dot(Y_resd.T,Y_resd))/len(Y-Y_resd)\n",
    "Y_hat=predict_Y(b,theta,X)\n",
    "get_cost(Y,Y_hat)"
   ]
  },
  {
   "cell_type": "markdown",
   "metadata": {},
   "source": [
    "Parametry przekazywane do funkcji są następujące:\n",
    "\n",
    "x,y: zmienna wejściowa i wyjściowa\n",
    "\n",
    "y_hat: przewidywana wartość z aktualnym odchyleniem i wagą\n",
    "\n",
    "b_0,theta_0: bieżące odchylenie i wagi\n",
    "\n",
    "Szybkość uczenia się: szybkość uczenia się, aby dostosować krok aktualizacji"
   ]
  },
  {
   "cell_type": "code",
   "execution_count": 49,
   "metadata": {},
   "outputs": [
    {
     "name": "stdout",
     "output_type": "stream",
     "text": [
      "After initialization -Bias:  0.8183178312484733 theta:  [0.12933731 0.13211229 0.71244866]\n",
      "After first update -Bias:  0.8019514746235039 theta:  [0.14138253 0.13578863 0.70173733]\n"
     ]
    },
    {
     "data": {
      "text/plain": [
       "1.605779902615385"
      ]
     },
     "execution_count": 49,
     "metadata": {},
     "output_type": "execute_result"
    }
   ],
   "source": [
    "def update_theta(x,y,y_hat,b_0,theta_o,learning_rate):\n",
    "    db=(np.sum(y_hat-y)*2)/len(y)\n",
    "    dw=(np.dot((y_hat-y),x)*2)/len(y)\n",
    "    b_1=b_0-learning_rate*db\n",
    "    theta_1=theta_o-learning_rate*dw\n",
    "    return b_1,theta_1\n",
    "\n",
    "print(\"After initialization -Bias: \",b,\"theta: \",theta)\n",
    "Y_hat=predict_Y(b,theta,X)\n",
    "b,theta=update_theta(X,Y,Y_hat,b,theta,0.01)\n",
    "\n",
    "print(\"After first update -Bias: \",b,\"theta: \",theta)\n",
    "get_cost(Y,Y_hat)"
   ]
  },
  {
   "cell_type": "markdown",
   "metadata": {},
   "source": [
    "Tworzenie funkcji spadku gradientu"
   ]
  },
  {
   "cell_type": "code",
   "execution_count": 106,
   "metadata": {},
   "outputs": [
    {
     "name": "stdout",
     "output_type": "stream",
     "text": [
      "   iteration      cost\n",
      "0        0.0  1.330314\n",
      "Final Estimate of b and theta :  0.61612531202538 [0.82395023 0.53563048 0.90972693]\n"
     ]
    },
    {
     "data": {
      "text/html": [
       "<div>\n",
       "<style scoped>\n",
       "    .dataframe tbody tr th:only-of-type {\n",
       "        vertical-align: middle;\n",
       "    }\n",
       "\n",
       "    .dataframe tbody tr th {\n",
       "        vertical-align: top;\n",
       "    }\n",
       "\n",
       "    .dataframe thead th {\n",
       "        text-align: right;\n",
       "    }\n",
       "</style>\n",
       "<table border=\"1\" class=\"dataframe\">\n",
       "  <thead>\n",
       "    <tr style=\"text-align: right;\">\n",
       "      <th></th>\n",
       "      <th>iteration</th>\n",
       "      <th>cost</th>\n",
       "    </tr>\n",
       "  </thead>\n",
       "  <tbody>\n",
       "    <tr>\n",
       "      <th>0</th>\n",
       "      <td>0.0</td>\n",
       "      <td>1.330314</td>\n",
       "    </tr>\n",
       "  </tbody>\n",
       "</table>\n",
       "</div>"
      ],
      "text/plain": [
       "   iteration      cost\n",
       "0        0.0  1.330314"
      ]
     },
     "execution_count": 106,
     "metadata": {},
     "output_type": "execute_result"
    }
   ],
   "source": [
    "def run_gradient_descent(X, Y, alpha, num_iterations):\n",
    "    b,theta=initialize(X.shape[1])\n",
    "    iter_num=0\n",
    "    gd_iterations_df=pd.DataFrame(columns=['iteration','cost'])\n",
    "    result_idx=0\n",
    "\n",
    "    for idx in range(num_iterations):\n",
    "        Y_hat=predict_Y(b,theta,X)\n",
    "        this_cost=get_cost(Y,Y_hat)\n",
    "        prev_b=b\n",
    "        prev_theta=theta\n",
    "        b,theta=update_theta(X,Y,Y_hat,prev_b,prev_theta,alpha) \n",
    "\n",
    "        if(iter_num%2==0):\n",
    "            gd_iterations_df.loc[result_idx]=[iter_num,this_cost]\n",
    "            print(gd_iterations_df)\n",
    "            result_idx=result_idx+1\n",
    "            iter_num +=1\n",
    "            print('Final Estimate of b and theta : ',b,theta)\n",
    "                \n",
    "\n",
    "\n",
    "            return gd_iterations_df,b,theta\n",
    "            \n",
    "        \n",
    "gd_iterations_df,b,theta=run_gradient_descent(X,Y,alpha=0.001,num_iterations=10)\n",
    "gd_iterations_df[:10]"
   ]
  },
  {
   "cell_type": "code",
   "execution_count": 107,
   "metadata": {},
   "outputs": [],
   "source": [
    "# gd_iterations_df,b,theta=run_gradient_descent(X,Y,alpha=0.001,num_iterations=20)\n",
    "# print(gd_iterations_df)\n",
    "\n",
    "# plt.plot(gd_iterations_df['iteration'],gd_iterations_df['cost'])\n",
    "# plt.xlabel('Number of iterations')\n",
    "# plt.ylabel('Cost or MSE')\n",
    "# plt.show()\n"
   ]
  }
 ],
 "metadata": {
  "kernelspec": {
   "display_name": "Python 3.10.7 64-bit",
   "language": "python",
   "name": "python3"
  },
  "language_info": {
   "codemirror_mode": {
    "name": "ipython",
    "version": 3
   },
   "file_extension": ".py",
   "mimetype": "text/x-python",
   "name": "python",
   "nbconvert_exporter": "python",
   "pygments_lexer": "ipython3",
   "version": "3.10.7"
  },
  "orig_nbformat": 4,
  "vscode": {
   "interpreter": {
    "hash": "26de051ba29f2982a8de78e945f0abaf191376122a1563185a90213a26c5da77"
   }
  }
 },
 "nbformat": 4,
 "nbformat_minor": 2
}
