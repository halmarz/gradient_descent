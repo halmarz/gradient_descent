{
 "cells": [
  {
   "cell_type": "code",
   "execution_count": 20,
   "metadata": {},
   "outputs": [],
   "source": [
    "import numpy as np\n",
    "import matplotlib\n",
    "import matplotlib.pyplot as plt\n",
    "import sklearn.datasets as dt\n",
    "from sklearn.model_selection import train_test_split"
   ]
  },
  {
   "cell_type": "code",
   "execution_count": null,
   "metadata": {},
   "outputs": [],
   "source": []
  },
  {
   "cell_type": "code",
   "execution_count": 21,
   "metadata": {},
   "outputs": [
    {
     "data": {
      "image/png": "[encoded data removed]",
      "text/plain": [
       "<Figure size 1200x400 with 10 Axes>"
      ]
     },
     "metadata": {},
     "output_type": "display_data"
    }
   ],
   "source": [
    "digits,target = dt.load_digits(n_class=2,return_X_y=True)\n",
    "fig,ax = plt.subplots(nrows=1, ncols=10,figsize=(12,4),subplot_kw=dict(xticks=[], yticks=[]))\n",
    "\n",
    "# Plot some images of digits\n",
    "for i in np.arange(10):\n",
    "    ax[i].imshow(digits[i,:].reshape(8,8),cmap=plt.cm.gray)   \n",
    "plt.show()"
   ]
  },
  {
   "cell_type": "code",
   "execution_count": 22,
   "metadata": {},
   "outputs": [
    {
     "ename": "NameError",
     "evalue": "name 'gradient_descent' is not defined",
     "output_type": "error",
     "traceback": [
      "\u001b[1;31m---------------------------------------------------------------------------\u001b[0m",
      "\u001b[1;31mNameError\u001b[0m                                 Traceback (most recent call last)",
      "Cell \u001b[1;32mIn [22], line 13\u001b[0m\n\u001b[0;32m     11\u001b[0m rand \u001b[38;5;241m=\u001b[39m np\u001b[38;5;241m.\u001b[39mrandom\u001b[38;5;241m.\u001b[39mRandomState(\u001b[38;5;241m29\u001b[39m)\n\u001b[0;32m     12\u001b[0m w_init \u001b[38;5;241m=\u001b[39m rand\u001b[38;5;241m.\u001b[39muniform(\u001b[38;5;241m-\u001b[39m\u001b[38;5;241m1\u001b[39m,\u001b[38;5;241m1\u001b[39m,x_train\u001b[38;5;241m.\u001b[39mshape[\u001b[38;5;241m1\u001b[39m])\u001b[38;5;241m*\u001b[39m\u001b[38;5;241m.000001\u001b[39m\n\u001b[1;32m---> 13\u001b[0m w_history \u001b[38;5;241m=\u001b[39m gradient_descent(\u001b[38;5;241m100\u001b[39m,\u001b[38;5;241m0.1\u001b[39m,w_init,\n\u001b[0;32m     14\u001b[0m                               mse,grad_mse,(x_train,y_train),\n\u001b[0;32m     15\u001b[0m                              learning_rate\u001b[38;5;241m=\u001b[39m\u001b[38;5;241m1e-6\u001b[39m,momentum\u001b[38;5;241m=\u001b[39m\u001b[38;5;241m0.7\u001b[39m)\n\u001b[0;32m     16\u001b[0m mse_history \u001b[38;5;241m=\u001b[39m gradient_descent(\u001b[38;5;241m100\u001b[39m,\u001b[38;5;241m0.1\u001b[39m,w_init,\n\u001b[0;32m     17\u001b[0m                               mse,grad_mse,(x_train,y_train),\n\u001b[0;32m     18\u001b[0m                              learning_rate\u001b[38;5;241m=\u001b[39m\u001b[38;5;241m1e-6\u001b[39m,momentum\u001b[38;5;241m=\u001b[39m\u001b[38;5;241m0.7\u001b[39m)\n",
      "\u001b[1;31mNameError\u001b[0m: name 'gradient_descent' is not defined"
     ]
    }
   ],
   "source": [
    "\n",
    "x_train, x_test, y_train, y_test = train_test_split(\n",
    "                        digits, target, test_size=0.2, random_state=10)\n",
    "\n",
    "\n",
    "x_train = np.hstack((np.ones((y_train.size,1)),x_train))\n",
    "x_test  = np.hstack((np.ones((y_test.size,1)),x_test))\n",
    "\n",
    "\n",
    "\n",
    "\n",
    "rand = np.random.RandomState(29)\n",
    "w_init = rand.uniform(-1,1,x_train.shape[1])*.000001\n",
    "w_history = gradient_descent(100,0.1,w_init,\n",
    "                              mse,grad_mse,(x_train,y_train),\n",
    "                             learning_rate=1e-6,momentum=0.7)\n",
    "mse_history = gradient_descent(100,0.1,w_init,\n",
    "                              mse,grad_mse,(x_train,y_train),\n",
    "                             learning_rate=1e-6,momentum=0.7)\n",
    "\n"
   ]
  },
  {
   "cell_type": "code",
   "execution_count": null,
   "metadata": {},
   "outputs": [],
   "source": [
    "plt.plot(np.arange(mse_history.size),mse_history)\n",
    "plt.xlabel('Iteration No.')\n",
    "plt.ylabel('Mean Square Error')\n",
    "plt.title('Gradient Descent on Digits Data (Batch Version)')\n",
    "plt.show()"
   ]
  }
 ],
 "metadata": {
  "kernelspec": {
   "display_name": "Python 3.10.7 64-bit",
   "language": "python",
   "name": "python3"
  },
  "language_info": {
   "codemirror_mode": {
    "name": "ipython",
    "version": 3
   },
   "file_extension": ".py",
   "mimetype": "text/x-python",
   "name": "python",
   "nbconvert_exporter": "python",
   "pygments_lexer": "ipython3",
   "version": "3.10.7"
  },
  "orig_nbformat": 4,
  "vscode": {
   "interpreter": {
    "hash": "26de051ba29f2982a8de78e945f0abaf191376122a1563185a90213a26c5da77"
   }
  }
 },
 "nbformat": 4,
 "nbformat_minor": 2
}
